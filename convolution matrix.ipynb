{
 "cells": [
  {
   "cell_type": "markdown",
   "metadata": {},
   "source": [
    "Members: \n",
    "- Manuela \n",
    "- Lucresse\n",
    "- Likhita\n",
    "- Gil-Allen\n",
    "- Regis\n",
    "- Lionel"
   ]
  },
  {
   "cell_type": "markdown",
   "metadata": {},
   "source": [
    "# Convolution matrix"
   ]
  },
  {
   "cell_type": "code",
   "execution_count": 1,
   "metadata": {},
   "outputs": [],
   "source": [
    "import numpy as np"
   ]
  },
  {
   "cell_type": "markdown",
   "metadata": {},
   "source": [
    "# Defining convolution function\n",
    "\n",
    "function takes three arguments: \n",
    "\n",
    "- input_matrix\n",
    "- kernel(convolution filter)\n",
    "- stride(the step size for sliding the kernel over the input matrix)"
   ]
  },
  {
   "cell_type": "code",
   "execution_count": 2,
   "metadata": {},
   "outputs": [],
   "source": [
    "def convolve2d(input_matrix, kernel, stride):\n",
    "    kernel_height, kernel_width = kernel.shape\n",
    "    input_height, input_width = input_matrix.shape\n",
    "    #check if the kernel is larger than the input image\n",
    "    output_height = (input_height - kernel_height) // stride[0] + 1\n",
    "    output_width = (input_width - kernel_width) // stride[1] + 1\n",
    "    \n",
    "    output_matrix = np.zeros((output_height, output_width))\n",
    "\n",
    "    #iterate through each row in the input_matrix where the kernel can be placed based on the specific stride\n",
    "    for i in range(0, input_height - kernel_height + 1, stride[0]):\n",
    "        for j in range(0, input_width - kernel_width + 1, stride[1]):\n",
    "            output_matrix[i // stride[0], j // stride[1]] = np.sum(input_matrix[i:i+kernel_height, j:j+kernel_width] * kernel)\n",
    "\n",
    "    return output_matrix\n"
   ]
  },
  {
   "cell_type": "code",
   "execution_count": 3,
   "metadata": {},
   "outputs": [],
   "source": [
    "#define an example input matrix and two convolution filters, one of size 3x3 and the other of size 5x5.\n",
    "# Example input matrix\n",
    "input_matrix = np.array([[1, 2, 3, 4, 5],\n",
    "                         [6, 7, 8, 9, 10],\n",
    "                         [11, 12, 13, 14, 15],\n",
    "                         [16, 17, 18, 19, 20],\n",
    "                         [21, 22, 23, 24, 25]])\n",
    "\n",
    "# Example 3x3 filter\n",
    "kernel_3x3 = np.array([[1, 0, -1],\n",
    "                       [2, 0, -2],\n",
    "                       [1, 0, -1]])\n",
    "\n",
    "# Example 5x5 filter\n",
    "kernel_5x5 = np.array([[1, 1, 1, 1, 1],\n",
    "                       [1, 1, 1, 1, 1],\n",
    "                       [1, 1, 1, 1, 1],\n",
    "                       [1, 1, 1, 1, 1],\n",
    "                       [1, 1, 1, 1, 1]])"
   ]
  },
  {
   "cell_type": "code",
   "execution_count": 4,
   "metadata": {},
   "outputs": [],
   "source": [
    "# Perform convolution with stride 1x1\n",
    "output_3x3_stride1 = convolve2d(input_matrix, kernel_3x3, stride=(1, 1))\n",
    "output_5x5_stride1 = convolve2d(input_matrix, kernel_5x5, stride=(1, 1))\n"
   ]
  },
  {
   "cell_type": "code",
   "execution_count": 5,
   "metadata": {},
   "outputs": [
    {
     "name": "stdout",
     "output_type": "stream",
     "text": [
      "Output of 3x3 filter with stride 1x1:\n",
      "[[-8. -8. -8.]\n",
      " [-8. -8. -8.]\n",
      " [-8. -8. -8.]]\n",
      "\n",
      "Output of 5x5 filter with stride 1x1:\n",
      "[[325.]]\n"
     ]
    }
   ],
   "source": [
    "#printing the results of the convolution operations\n",
    "print(\"Output of 3x3 filter with stride 1x1:\")\n",
    "print(output_3x3_stride1)\n",
    "print(\"\\nOutput of 5x5 filter with stride 1x1:\")\n",
    "print(output_5x5_stride1)"
   ]
  },
  {
   "cell_type": "code",
   "execution_count": 6,
   "metadata": {},
   "outputs": [],
   "source": [
    "# Perform convolution with stride 2x2\n",
    "output_3x3_stride2 = convolve2d(input_matrix, kernel_3x3, stride=(2, 2))\n",
    "output_5x5_stride2 = convolve2d(input_matrix, kernel_5x5, stride=(2, 2))\n"
   ]
  },
  {
   "cell_type": "code",
   "execution_count": 7,
   "metadata": {},
   "outputs": [
    {
     "name": "stdout",
     "output_type": "stream",
     "text": [
      "\n",
      "Output of 3x3 filter with stride 2x2:\n",
      "[[-8. -8.]\n",
      " [-8. -8.]]\n",
      "\n",
      "Output of 5x5 filter with stride 2x2:\n",
      "[[325.]]\n"
     ]
    }
   ],
   "source": [
    "#printing the results of the convolution operations\n",
    "print(\"\\nOutput of 3x3 filter with stride 2x2:\")\n",
    "print(output_3x3_stride2)\n",
    "print(\"\\nOutput of 5x5 filter with stride 2x2:\")\n",
    "print(output_5x5_stride2)"
   ]
  }
 ],
 "metadata": {
  "kernelspec": {
   "display_name": "base",
   "language": "python",
   "name": "python3"
  },
  "language_info": {
   "codemirror_mode": {
    "name": "ipython",
    "version": 3
   },
   "file_extension": ".py",
   "mimetype": "text/x-python",
   "name": "python",
   "nbconvert_exporter": "python",
   "pygments_lexer": "ipython3",
   "version": "3.11.8"
  }
 },
 "nbformat": 4,
 "nbformat_minor": 2
}
